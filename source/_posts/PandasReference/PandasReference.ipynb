{
 "cells": [
  {
   "cell_type": "code",
   "execution_count": 31,
   "metadata": {
    "collapsed": false
   },
   "outputs": [
    {
     "data": {
      "application/javascript": [
       "$.getScript('https://kmahelona.github.io/ipython_notebook_goodies/ipython_notebook_toc.js')"
      ],
      "text/plain": [
       "<IPython.core.display.Javascript object>"
      ]
     },
     "metadata": {},
     "output_type": "display_data"
    }
   ],
   "source": [
    "%%javascript\n",
    "$.getScript('https://kmahelona.github.io/ipython_notebook_goodies/ipython_notebook_toc.js')"
   ]
  },
  {
   "cell_type": "markdown",
   "metadata": {},
   "source": [
    "<h1 id=\"tocheading\">Table of Contents</h1>\n",
    "<div id=\"toc\"></div>\n",
    "\n",
    "# References:\n",
    "\n",
    "* [IO doc](http://pandas.pydata.org/pandas-docs/stable/io.html)\n",
    "    * [read_csv doc](http://pandas.pydata.org/pandas-docs/stable/generated/pandas.read_csv.html)\n",
    "* [Series](http://pandas.pydata.org/pandas-docs/stable/generated/pandas.Series.html)\n",
    "* [DataFrame](http://pandas.pydata.org/pandas-docs/stable/generated/pandas.DataFrame.html)\n",
    "* [Groupby](http://pandas.pydata.org/pandas-docs/stable/groupby.html)\n",
    "    * [Aggregation](http://pandas.pydata.org/pandas-docs/stable/groupby.html#aggregation)\n",
    "* [Table style](http://pandas.pydata.org/pandas-docs/stable/style.html)\n",
    "* [Visualization (charts)](http://pandas.pydata.org/pandas-docs/stable/visualization.html)\n",
    "\n",
    "# Tips\n",
    "* Use `<tab>` for completion\n",
    "* select then press `(` wraps"
   ]
  },
  {
   "cell_type": "markdown",
   "metadata": {},
   "source": [
    "# Setup"
   ]
  },
  {
   "cell_type": "code",
   "execution_count": 32,
   "metadata": {
    "collapsed": true
   },
   "outputs": [],
   "source": [
    "%matplotlib inline\n",
    "import pandas as pd\n",
    "import numpy as np\n",
    "from IPython.display import display, HTML\n",
    "pd.options.display.max_columns = 999\n",
    "pd.options.display.max_rows = 999"
   ]
  },
  {
   "cell_type": "markdown",
   "metadata": {},
   "source": [
    "# Reading CSV\n",
    "* [read_csv doc](http://pandas.pydata.org/pandas-docs/stable/generated/pandas.read_csv.html)\n",
    "* [IO doc](http://pandas.pydata.org/pandas-docs/stable/io.html)\n",
    "* [Python CSV](https://docs.python.org/2/library/csv.html#)"
   ]
  },
  {
   "cell_type": "code",
   "execution_count": 34,
   "metadata": {
    "collapsed": false,
    "scrolled": false
   },
   "outputs": [
    {
     "data": {
      "text/html": [
       "<div>\n",
       "<table border=\"1\" class=\"dataframe\">\n",
       "  <thead>\n",
       "    <tr style=\"text-align: right;\">\n",
       "      <th></th>\n",
       "      <th>sequence_number</th>\n",
       "      <th>Timestamp</th>\n",
       "      <th>Kind</th>\n",
       "      <th>NormalCount</th>\n",
       "      <th>TotalCount</th>\n",
       "    </tr>\n",
       "  </thead>\n",
       "  <tbody>\n",
       "    <tr>\n",
       "      <th>0</th>\n",
       "      <td>484828304</td>\n",
       "      <td>2016-06-18 00:49:34</td>\n",
       "      <td>10.27</td>\n",
       "      <td>3</td>\n",
       "      <td>10</td>\n",
       "    </tr>\n",
       "    <tr>\n",
       "      <th>1</th>\n",
       "      <td>1006221952</td>\n",
       "      <td>2016-04-13 17:31:09</td>\n",
       "      <td>10.31</td>\n",
       "      <td>6</td>\n",
       "      <td>14</td>\n",
       "    </tr>\n",
       "    <tr>\n",
       "      <th>2</th>\n",
       "      <td>227783421</td>\n",
       "      <td>2016-03-20 11:10:28</td>\n",
       "      <td>10.27</td>\n",
       "      <td>5</td>\n",
       "      <td>13</td>\n",
       "    </tr>\n",
       "  </tbody>\n",
       "</table>\n",
       "</div>"
      ],
      "text/plain": [
       "   sequence_number           Timestamp   Kind  NormalCount  TotalCount\n",
       "0        484828304 2016-06-18 00:49:34  10.27            3          10\n",
       "1       1006221952 2016-04-13 17:31:09  10.31            6          14\n",
       "2        227783421 2016-03-20 11:10:28  10.27            5          13"
      ]
     },
     "execution_count": 34,
     "metadata": {},
     "output_type": "execute_result"
    }
   ],
   "source": [
    "data = pd.read_csv(\n",
    "    'data.tsv', \n",
    "    parse_dates=['Timestamp'],\n",
    "    dtype={'Kind': str},\n",
    "    dialect='excel-tab')\n",
    "data[:3]"
   ]
  },
  {
   "cell_type": "code",
   "execution_count": 50,
   "metadata": {
    "collapsed": false
   },
   "outputs": [
    {
     "data": {
      "text/plain": [
       "['excel-tab', 'excel', 'unix']"
      ]
     },
     "execution_count": 50,
     "metadata": {},
     "output_type": "execute_result"
    }
   ],
   "source": [
    "# supported CSV dialects:\n",
    "import csv\n",
    "csv.list_dialects()"
   ]
  },
  {
   "cell_type": "markdown",
   "metadata": {},
   "source": [
    "# Column selection, transormation"
   ]
  },
  {
   "cell_type": "code",
   "execution_count": 35,
   "metadata": {
    "collapsed": false
   },
   "outputs": [],
   "source": [
    "# a columln is a Series:\n",
    "counts = data['TotalCount']\n",
    "\n",
    "# transformation:\n",
    "even_counts = counts.apply(lambda x: x % 2 == 0)\n",
    "\n",
    "# transpose a DataFrame:\n",
    "transposed = data.transpose()"
   ]
  },
  {
   "cell_type": "markdown",
   "metadata": {},
   "source": [
    "# Filtering"
   ]
  },
  {
   "cell_type": "code",
   "execution_count": 36,
   "metadata": {
    "collapsed": false
   },
   "outputs": [
    {
     "data": {
      "text/plain": [
       "0    False\n",
       "1    False\n",
       "2    False\n",
       "3     True\n",
       "4    False\n",
       "5     True\n",
       "6    False\n",
       "7    False\n",
       "8    False\n",
       "Name: Kind, dtype: bool"
      ]
     },
     "execution_count": 36,
     "metadata": {},
     "output_type": "execute_result"
    }
   ],
   "source": [
    "filter_vec = data['Kind'] == \"10.20\"  # result: [True, True, False, ...]\n",
    "filter_vec"
   ]
  },
  {
   "cell_type": "code",
   "execution_count": 37,
   "metadata": {
    "collapsed": false
   },
   "outputs": [
    {
     "data": {
      "text/html": [
       "<div>\n",
       "<table border=\"1\" class=\"dataframe\">\n",
       "  <thead>\n",
       "    <tr style=\"text-align: right;\">\n",
       "      <th></th>\n",
       "      <th>sequence_number</th>\n",
       "      <th>Timestamp</th>\n",
       "      <th>Kind</th>\n",
       "      <th>NormalCount</th>\n",
       "      <th>TotalCount</th>\n",
       "    </tr>\n",
       "  </thead>\n",
       "  <tbody>\n",
       "    <tr>\n",
       "      <th>3</th>\n",
       "      <td>2112888815</td>\n",
       "      <td>2016-06-27 10:28:03</td>\n",
       "      <td>10.20</td>\n",
       "      <td>3</td>\n",
       "      <td>15</td>\n",
       "    </tr>\n",
       "    <tr>\n",
       "      <th>5</th>\n",
       "      <td>808318967</td>\n",
       "      <td>2016-04-10 21:11:11</td>\n",
       "      <td>10.20</td>\n",
       "      <td>4</td>\n",
       "      <td>12</td>\n",
       "    </tr>\n",
       "  </tbody>\n",
       "</table>\n",
       "</div>"
      ],
      "text/plain": [
       "   sequence_number           Timestamp   Kind  NormalCount  TotalCount\n",
       "3       2112888815 2016-06-27 10:28:03  10.20            3          15\n",
       "5        808318967 2016-04-10 21:11:11  10.20            4          12"
      ]
     },
     "execution_count": 37,
     "metadata": {},
     "output_type": "execute_result"
    }
   ],
   "source": [
    "data[filter_vec]"
   ]
  },
  {
   "cell_type": "markdown",
   "metadata": {},
   "source": [
    "You can also construct the filtering vector using arbitrary function by using `.apply()`:"
   ]
  },
  {
   "cell_type": "code",
   "execution_count": 38,
   "metadata": {
    "collapsed": false
   },
   "outputs": [
    {
     "data": {
      "text/html": [
       "<div>\n",
       "<table border=\"1\" class=\"dataframe\">\n",
       "  <thead>\n",
       "    <tr style=\"text-align: right;\">\n",
       "      <th></th>\n",
       "      <th>sequence_number</th>\n",
       "      <th>Timestamp</th>\n",
       "      <th>Kind</th>\n",
       "      <th>NormalCount</th>\n",
       "      <th>TotalCount</th>\n",
       "    </tr>\n",
       "  </thead>\n",
       "  <tbody>\n",
       "    <tr>\n",
       "      <th>1</th>\n",
       "      <td>1006221952</td>\n",
       "      <td>2016-04-13 17:31:09</td>\n",
       "      <td>10.31</td>\n",
       "      <td>6</td>\n",
       "      <td>14</td>\n",
       "    </tr>\n",
       "  </tbody>\n",
       "</table>\n",
       "</div>"
      ],
      "text/plain": [
       "   sequence_number           Timestamp   Kind  NormalCount  TotalCount\n",
       "1       1006221952 2016-04-13 17:31:09  10.31            6          14"
      ]
     },
     "execution_count": 38,
     "metadata": {},
     "output_type": "execute_result"
    }
   ],
   "source": [
    "data[ data['Kind'].apply(lambda x: x > '10.27') ]"
   ]
  },
  {
   "cell_type": "markdown",
   "metadata": {},
   "source": [
    "Filter vectors can be combined using `vec1 | vec2`:"
   ]
  },
  {
   "cell_type": "code",
   "execution_count": 39,
   "metadata": {
    "collapsed": false,
    "scrolled": true
   },
   "outputs": [
    {
     "data": {
      "text/html": [
       "<div>\n",
       "<table border=\"1\" class=\"dataframe\">\n",
       "  <thead>\n",
       "    <tr style=\"text-align: right;\">\n",
       "      <th></th>\n",
       "      <th>sequence_number</th>\n",
       "      <th>Timestamp</th>\n",
       "      <th>Kind</th>\n",
       "      <th>NormalCount</th>\n",
       "      <th>TotalCount</th>\n",
       "    </tr>\n",
       "  </thead>\n",
       "  <tbody>\n",
       "    <tr>\n",
       "      <th>1</th>\n",
       "      <td>1006221952</td>\n",
       "      <td>2016-04-13 17:31:09</td>\n",
       "      <td>10.31</td>\n",
       "      <td>6</td>\n",
       "      <td>14</td>\n",
       "    </tr>\n",
       "    <tr>\n",
       "      <th>5</th>\n",
       "      <td>808318967</td>\n",
       "      <td>2016-04-10 21:11:11</td>\n",
       "      <td>10.20</td>\n",
       "      <td>4</td>\n",
       "      <td>12</td>\n",
       "    </tr>\n",
       "  </tbody>\n",
       "</table>\n",
       "</div>"
      ],
      "text/plain": [
       "   sequence_number           Timestamp   Kind  NormalCount  TotalCount\n",
       "1       1006221952 2016-04-13 17:31:09  10.31            6          14\n",
       "5        808318967 2016-04-10 21:11:11  10.20            4          12"
      ]
     },
     "execution_count": 39,
     "metadata": {},
     "output_type": "execute_result"
    }
   ],
   "source": [
    "data[ (data['Kind'] == '10.31') | \\\n",
    "      (data['sequence_number'] == 808318967) ]"
   ]
  },
  {
   "cell_type": "markdown",
   "metadata": {},
   "source": [
    "# Adding removing columns"
   ]
  },
  {
   "cell_type": "code",
   "execution_count": 40,
   "metadata": {
    "collapsed": false
   },
   "outputs": [
    {
     "data": {
      "text/html": [
       "<div>\n",
       "<table border=\"1\" class=\"dataframe\">\n",
       "  <thead>\n",
       "    <tr style=\"text-align: right;\">\n",
       "      <th></th>\n",
       "      <th>sequence_number</th>\n",
       "      <th>Timestamp</th>\n",
       "      <th>Kind</th>\n",
       "      <th>NormalCount</th>\n",
       "      <th>TotalCount</th>\n",
       "      <th>NewCol</th>\n",
       "    </tr>\n",
       "  </thead>\n",
       "  <tbody>\n",
       "    <tr>\n",
       "      <th>0</th>\n",
       "      <td>484828304</td>\n",
       "      <td>2016-06-18 00:49:34</td>\n",
       "      <td>10.27</td>\n",
       "      <td>3</td>\n",
       "      <td>10</td>\n",
       "      <td>False</td>\n",
       "    </tr>\n",
       "    <tr>\n",
       "      <th>1</th>\n",
       "      <td>1006221952</td>\n",
       "      <td>2016-04-13 17:31:09</td>\n",
       "      <td>10.31</td>\n",
       "      <td>6</td>\n",
       "      <td>14</td>\n",
       "      <td>True</td>\n",
       "    </tr>\n",
       "  </tbody>\n",
       "</table>\n",
       "</div>"
      ],
      "text/plain": [
       "   sequence_number           Timestamp   Kind  NormalCount  TotalCount NewCol\n",
       "0        484828304 2016-06-18 00:49:34  10.27            3          10  False\n",
       "1       1006221952 2016-04-13 17:31:09  10.31            6          14   True"
      ]
     },
     "metadata": {},
     "output_type": "display_data"
    }
   ],
   "source": [
    "data.loc[:, 'NewCol'] = data['Kind'] > '10.27'\n",
    "# or: data['NewCol'] = data['Kind'] > '10.27'\n",
    "display(data[:2])\n",
    "\n",
    "cols = list(data.columns)\n",
    "cols.remove('NewCol')\n",
    "seqnums = data['sequence_number'] # remember it in case we need it later\n",
    "cols.remove('sequence_number')\n",
    "\n",
    "# remove it\n",
    "data = data[ cols ]"
   ]
  },
  {
   "cell_type": "markdown",
   "metadata": {},
   "source": [
    "## Count unique column values"
   ]
  },
  {
   "cell_type": "code",
   "execution_count": 41,
   "metadata": {
    "collapsed": false
   },
   "outputs": [
    {
     "data": {
      "text/plain": [
       "10.27    4\n",
       "10.20    2\n",
       "10.24    2\n",
       "10.31    1\n",
       "Name: Kind, dtype: int64"
      ]
     },
     "metadata": {},
     "output_type": "display_data"
    },
    {
     "data": {
      "text/plain": [
       "pandas.core.series.Series"
      ]
     },
     "metadata": {},
     "output_type": "display_data"
    }
   ],
   "source": [
    "x = data['Kind'].value_counts()\n",
    "display(x)\n",
    "display(type(x))"
   ]
  },
  {
   "cell_type": "code",
   "execution_count": 42,
   "metadata": {
    "collapsed": false
   },
   "outputs": [
    {
     "data": {
      "text/plain": [
       "array(['10.27', '10.31', '10.20', '10.24'], dtype=object)"
      ]
     },
     "execution_count": 42,
     "metadata": {},
     "output_type": "execute_result"
    }
   ],
   "source": [
    "data['Kind'].unique()"
   ]
  },
  {
   "cell_type": "markdown",
   "metadata": {},
   "source": [
    "# Column Wise Operation"
   ]
  },
  {
   "cell_type": "markdown",
   "metadata": {},
   "source": [
    "`Series.Combine(other, func)` should serve the general purpose, but it seems the `func` return type is enforced to be the same as the series that's operated on.\n",
    "\n",
    "Otherwise, division, multiplecatioin are all \"numpy\" flavored: `/` and `*`:"
   ]
  },
  {
   "cell_type": "code",
   "execution_count": 43,
   "metadata": {
    "collapsed": false
   },
   "outputs": [
    {
     "data": {
      "text/html": [
       "<div>\n",
       "<table border=\"1\" class=\"dataframe\">\n",
       "  <thead>\n",
       "    <tr style=\"text-align: right;\">\n",
       "      <th></th>\n",
       "      <th>Timestamp</th>\n",
       "      <th>Kind</th>\n",
       "      <th>NormalCount</th>\n",
       "      <th>TotalCount</th>\n",
       "      <th>AverageCount</th>\n",
       "    </tr>\n",
       "  </thead>\n",
       "  <tbody>\n",
       "    <tr>\n",
       "      <th>0</th>\n",
       "      <td>2016-06-18 00:49:34</td>\n",
       "      <td>10.27</td>\n",
       "      <td>3</td>\n",
       "      <td>10</td>\n",
       "      <td>0.300000</td>\n",
       "    </tr>\n",
       "    <tr>\n",
       "      <th>1</th>\n",
       "      <td>2016-04-13 17:31:09</td>\n",
       "      <td>10.31</td>\n",
       "      <td>6</td>\n",
       "      <td>14</td>\n",
       "      <td>0.428571</td>\n",
       "    </tr>\n",
       "  </tbody>\n",
       "</table>\n",
       "</div>"
      ],
      "text/plain": [
       "            Timestamp   Kind  NormalCount  TotalCount  AverageCount\n",
       "0 2016-06-18 00:49:34  10.27            3          10      0.300000\n",
       "1 2016-04-13 17:31:09  10.31            6          14      0.428571"
      ]
     },
     "execution_count": 43,
     "metadata": {},
     "output_type": "execute_result"
    }
   ],
   "source": [
    "aveCount = data['NormalCount'] / data['TotalCount']\n",
    "data[\"AverageCount\"] = aveCount\n",
    "data[:2]"
   ]
  },
  {
   "cell_type": "markdown",
   "metadata": {},
   "source": [
    "# Grouping\n",
    "\n",
    "[Document](http://pandas.pydata.org/pandas-docs/stable/groupby.html)"
   ]
  },
  {
   "cell_type": "code",
   "execution_count": 44,
   "metadata": {
    "collapsed": false,
    "scrolled": false
   },
   "outputs": [
    {
     "data": {
      "text/plain": [
       "\"Type of grouped is <class 'pandas.core.groupby.DataFrameGroupBy'>\""
      ]
     },
     "metadata": {},
     "output_type": "display_data"
    },
    {
     "name": "stdout",
     "output_type": "stream",
     "text": [
      "==========\n",
      "KEY IS: 10.20\n",
      "GROUP CONTENT:\n",
      "            Timestamp   Kind  NormalCount  TotalCount  AverageCount\n",
      "3 2016-06-27 10:28:03  10.20            3          15      0.200000\n",
      "5 2016-04-10 21:11:11  10.20            4          12      0.333333\n",
      "==========\n",
      "KEY IS: 10.24\n",
      "GROUP CONTENT:\n",
      "            Timestamp   Kind  NormalCount  TotalCount  AverageCount\n",
      "6 2016-05-18 20:29:01  10.24            3          14      0.214286\n",
      "7 2016-03-24 18:36:10  10.24            6          15      0.400000\n",
      "==========\n",
      "KEY IS: 10.27\n",
      "GROUP CONTENT:\n",
      "            Timestamp   Kind  NormalCount  TotalCount  AverageCount\n",
      "0 2016-06-18 00:49:34  10.27            3          10      0.300000\n",
      "2 2016-03-20 11:10:28  10.27            5          13      0.384615\n",
      "4 2016-03-29 11:48:52  10.27            5          16      0.312500\n",
      "8 2016-05-22 20:26:01  10.27            5          16      0.312500\n",
      "==========\n",
      "KEY IS: 10.31\n",
      "GROUP CONTENT:\n",
      "            Timestamp   Kind  NormalCount  TotalCount  AverageCount\n",
      "1 2016-04-13 17:31:09  10.31            6          14      0.428571\n"
     ]
    }
   ],
   "source": [
    "grouped = data.groupby('Kind') # or ['Kind', 'NewCol']\n",
    "display(\"Type of grouped is {0}\".format(type(grouped)))\n",
    "\n",
    "# iterating:\n",
    "for key, group in grouped:\n",
    "    print(\"==========\")\n",
    "    print(\"KEY IS: {0}\".format(key))\n",
    "    print(\"GROUP CONTENT:\")\n",
    "    print(group)"
   ]
  },
  {
   "cell_type": "markdown",
   "metadata": {},
   "source": [
    "## Aggregation\n",
    "\n",
    "It can be tricky. Refer to the [aggregation doc](http://pandas.pydata.org/pandas-docs/stable/groupby.html#aggregation)"
   ]
  },
  {
   "cell_type": "code",
   "execution_count": 45,
   "metadata": {
    "collapsed": false
   },
   "outputs": [
    {
     "data": {
      "text/html": [
       "<div>\n",
       "<table border=\"1\" class=\"dataframe\">\n",
       "  <thead>\n",
       "    <tr style=\"text-align: right;\">\n",
       "      <th></th>\n",
       "      <th>min</th>\n",
       "      <th>sum</th>\n",
       "    </tr>\n",
       "    <tr>\n",
       "      <th>Kind</th>\n",
       "      <th></th>\n",
       "      <th></th>\n",
       "    </tr>\n",
       "  </thead>\n",
       "  <tbody>\n",
       "    <tr>\n",
       "      <th>10.20</th>\n",
       "      <td>12</td>\n",
       "      <td>27</td>\n",
       "    </tr>\n",
       "    <tr>\n",
       "      <th>10.24</th>\n",
       "      <td>14</td>\n",
       "      <td>29</td>\n",
       "    </tr>\n",
       "    <tr>\n",
       "      <th>10.27</th>\n",
       "      <td>10</td>\n",
       "      <td>55</td>\n",
       "    </tr>\n",
       "    <tr>\n",
       "      <th>10.31</th>\n",
       "      <td>14</td>\n",
       "      <td>14</td>\n",
       "    </tr>\n",
       "  </tbody>\n",
       "</table>\n",
       "</div>"
      ],
      "text/plain": [
       "       min  sum\n",
       "Kind           \n",
       "10.20   12   27\n",
       "10.24   14   29\n",
       "10.27   10   55\n",
       "10.31   14   14"
      ]
     },
     "execution_count": 45,
     "metadata": {},
     "output_type": "execute_result"
    }
   ],
   "source": [
    "# You must select a single column before agg():\n",
    "grouped['TotalCount'].agg({\n",
    "        'sum': lambda group: sum(group),\n",
    "        'min': lambda group: min(group)})"
   ]
  },
  {
   "cell_type": "code",
   "execution_count": 46,
   "metadata": {
    "collapsed": false
   },
   "outputs": [],
   "source": [
    "def f(group):\n",
    "    print(group)\n",
    "    return \"FOO\"\n",
    "\n",
    "# this is wrong:\n",
    "# grouped.agg(f)"
   ]
  },
  {
   "cell_type": "code",
   "execution_count": 47,
   "metadata": {
    "collapsed": false
   },
   "outputs": [
    {
     "data": {
      "text/plain": [
       "Kind\n",
       "10.20    27\n",
       "10.24    29\n",
       "10.27    55\n",
       "10.31    14\n",
       "Name: TotalCount, dtype: int64"
      ]
     },
     "metadata": {},
     "output_type": "display_data"
    },
    {
     "data": {
      "text/plain": [
       "Kind\n",
       "10.20     7\n",
       "10.24     9\n",
       "10.27    18\n",
       "10.31     6\n",
       "Name: NormalCount, dtype: int64"
      ]
     },
     "metadata": {},
     "output_type": "display_data"
    },
    {
     "data": {
      "text/html": [
       "<div>\n",
       "<table border=\"1\" class=\"dataframe\">\n",
       "  <thead>\n",
       "    <tr style=\"text-align: right;\">\n",
       "      <th></th>\n",
       "      <th>ave</th>\n",
       "      <th>normal</th>\n",
       "      <th>total</th>\n",
       "    </tr>\n",
       "    <tr>\n",
       "      <th>Kind</th>\n",
       "      <th></th>\n",
       "      <th></th>\n",
       "      <th></th>\n",
       "    </tr>\n",
       "  </thead>\n",
       "  <tbody>\n",
       "    <tr>\n",
       "      <th>10.20</th>\n",
       "      <td>0.259259</td>\n",
       "      <td>7</td>\n",
       "      <td>27</td>\n",
       "    </tr>\n",
       "    <tr>\n",
       "      <th>10.24</th>\n",
       "      <td>0.310345</td>\n",
       "      <td>9</td>\n",
       "      <td>29</td>\n",
       "    </tr>\n",
       "    <tr>\n",
       "      <th>10.27</th>\n",
       "      <td>0.327273</td>\n",
       "      <td>18</td>\n",
       "      <td>55</td>\n",
       "    </tr>\n",
       "    <tr>\n",
       "      <th>10.31</th>\n",
       "      <td>0.428571</td>\n",
       "      <td>6</td>\n",
       "      <td>14</td>\n",
       "    </tr>\n",
       "  </tbody>\n",
       "</table>\n",
       "</div>"
      ],
      "text/plain": [
       "            ave  normal  total\n",
       "Kind                          \n",
       "10.20  0.259259       7     27\n",
       "10.24  0.310345       9     29\n",
       "10.27  0.327273      18     55\n",
       "10.31  0.428571       6     14"
      ]
     },
     "metadata": {},
     "output_type": "display_data"
    }
   ],
   "source": [
    "# alternatively, construct per-column aggregation then combine them into a DataFrame:\n",
    "\n",
    "total = grouped['TotalCount'].agg(sum) # result is a Series\n",
    "display(total)\n",
    "\n",
    "normal = grouped['NormalCount'].agg(sum)\n",
    "display(normal)\n",
    "\n",
    "new_data = pd.DataFrame({\n",
    "        'total': total,\n",
    "        'normal': normal,\n",
    "        'ave': normal/total})\n",
    "display(new_data)"
   ]
  },
  {
   "cell_type": "code",
   "execution_count": 48,
   "metadata": {
    "collapsed": false,
    "scrolled": true
   },
   "outputs": [
    {
     "data": {
      "text/html": [
       "<div>\n",
       "<table border=\"1\" class=\"dataframe\">\n",
       "  <thead>\n",
       "    <tr style=\"text-align: right;\">\n",
       "      <th></th>\n",
       "      <th>total</th>\n",
       "      <th>normal</th>\n",
       "      <th>ave</th>\n",
       "    </tr>\n",
       "    <tr>\n",
       "      <th>Kind</th>\n",
       "      <th></th>\n",
       "      <th></th>\n",
       "      <th></th>\n",
       "    </tr>\n",
       "  </thead>\n",
       "  <tbody>\n",
       "    <tr>\n",
       "      <th>10.20</th>\n",
       "      <td>27</td>\n",
       "      <td>7</td>\n",
       "      <td>0.259259</td>\n",
       "    </tr>\n",
       "    <tr>\n",
       "      <th>10.24</th>\n",
       "      <td>29</td>\n",
       "      <td>9</td>\n",
       "      <td>0.310345</td>\n",
       "    </tr>\n",
       "    <tr>\n",
       "      <th>10.27</th>\n",
       "      <td>55</td>\n",
       "      <td>18</td>\n",
       "      <td>0.327273</td>\n",
       "    </tr>\n",
       "    <tr>\n",
       "      <th>10.31</th>\n",
       "      <td>14</td>\n",
       "      <td>6</td>\n",
       "      <td>0.428571</td>\n",
       "    </tr>\n",
       "  </tbody>\n",
       "</table>\n",
       "</div>"
      ],
      "text/plain": [
       "       total  normal       ave\n",
       "Kind                          \n",
       "10.20     27       7  0.259259\n",
       "10.24     29       9  0.310345\n",
       "10.27     55      18  0.327273\n",
       "10.31     14       6  0.428571"
      ]
     },
     "metadata": {},
     "output_type": "display_data"
    }
   ],
   "source": [
    "# To order the columns:\n",
    "new_data = pd.DataFrame({'total' : total})\n",
    "new_data['normal'] = normal\n",
    "new_data['ave'] = normal / total\n",
    "\n",
    "display(new_data)"
   ]
  },
  {
   "cell_type": "markdown",
   "metadata": {},
   "source": [
    "# Visualization\n",
    "\n",
    "* [Visualization doc (charts)](http://pandas.pydata.org/pandas-docs/stable/visualization.html)\n",
    "* [Style doc (table styles)](http://pandas.pydata.org/pandas-docs/stable/style.html)\n",
    "\n",
    "For table coloring, you may need [seaborn](https://stanford.edu/~mwaskom/software/seaborn/). To install use `conda install seaborn`."
   ]
  },
  {
   "cell_type": "code",
   "execution_count": 49,
   "metadata": {
    "collapsed": false
   },
   "outputs": [
    {
     "data": {
      "text/html": [
       "\n",
       "        <style  type=\"text/css\" >\n",
       "        \n",
       "        \n",
       "            #T_5ef8e5f6_59dc_11e6_8483_9a5fd3327a3drow0_col0 {\n",
       "            \n",
       "                background-color:  #9dd79d;\n",
       "            \n",
       "            }\n",
       "        \n",
       "            #T_5ef8e5f6_59dc_11e6_8483_9a5fd3327a3drow0_col1 {\n",
       "            \n",
       "                background-color:  #d3f5d3;\n",
       "            \n",
       "            }\n",
       "        \n",
       "            #T_5ef8e5f6_59dc_11e6_8483_9a5fd3327a3drow0_col2 {\n",
       "            \n",
       "                background-color:  #e5ffe5;\n",
       "            \n",
       "            }\n",
       "        \n",
       "            #T_5ef8e5f6_59dc_11e6_8483_9a5fd3327a3drow1_col0 {\n",
       "            \n",
       "                background-color:  #92d192;\n",
       "            \n",
       "            }\n",
       "        \n",
       "            #T_5ef8e5f6_59dc_11e6_8483_9a5fd3327a3drow1_col1 {\n",
       "            \n",
       "                background-color:  #acdfac;\n",
       "            \n",
       "            }\n",
       "        \n",
       "            #T_5ef8e5f6_59dc_11e6_8483_9a5fd3327a3drow1_col2 {\n",
       "            \n",
       "                background-color:  #a0d9a0;\n",
       "            \n",
       "            }\n",
       "        \n",
       "            #T_5ef8e5f6_59dc_11e6_8483_9a5fd3327a3drow2_col0 {\n",
       "            \n",
       "                background-color:  #008000;\n",
       "            \n",
       "            }\n",
       "        \n",
       "            #T_5ef8e5f6_59dc_11e6_8483_9a5fd3327a3drow2_col1 {\n",
       "            \n",
       "                background-color:  #008000;\n",
       "            \n",
       "            }\n",
       "        \n",
       "            #T_5ef8e5f6_59dc_11e6_8483_9a5fd3327a3drow2_col2 {\n",
       "            \n",
       "                background-color:  #8acc8a;\n",
       "            \n",
       "            }\n",
       "        \n",
       "            #T_5ef8e5f6_59dc_11e6_8483_9a5fd3327a3drow3_col0 {\n",
       "            \n",
       "                background-color:  #e5ffe5;\n",
       "            \n",
       "            }\n",
       "        \n",
       "            #T_5ef8e5f6_59dc_11e6_8483_9a5fd3327a3drow3_col1 {\n",
       "            \n",
       "                background-color:  #e5ffe5;\n",
       "            \n",
       "            }\n",
       "        \n",
       "            #T_5ef8e5f6_59dc_11e6_8483_9a5fd3327a3drow3_col2 {\n",
       "            \n",
       "                background-color:  #008000;\n",
       "            \n",
       "            }\n",
       "        \n",
       "        </style>\n",
       "\n",
       "        <table id=\"T_5ef8e5f6_59dc_11e6_8483_9a5fd3327a3d\" None>\n",
       "        \n",
       "\n",
       "        <thead>\n",
       "            \n",
       "            <tr>\n",
       "                \n",
       "                <th class=\"blank\">\n",
       "                \n",
       "                <th class=\"col_heading level0 col0\">total\n",
       "                \n",
       "                <th class=\"col_heading level0 col1\">normal\n",
       "                \n",
       "                <th class=\"col_heading level0 col2\">ave\n",
       "                \n",
       "            </tr>\n",
       "            \n",
       "            <tr>\n",
       "                \n",
       "                <th class=\"col_heading level2 col0\">Kind\n",
       "                \n",
       "                <th class=\"blank\">\n",
       "                \n",
       "                <th class=\"blank\">\n",
       "                \n",
       "                <th class=\"blank\">\n",
       "                \n",
       "            </tr>\n",
       "            \n",
       "        </thead>\n",
       "        <tbody>\n",
       "            \n",
       "            <tr>\n",
       "                \n",
       "                <th id=\"T_5ef8e5f6_59dc_11e6_8483_9a5fd3327a3d\" class=\"row_heading level0 row0\">\n",
       "                    10.20\n",
       "                \n",
       "                <td id=\"T_5ef8e5f6_59dc_11e6_8483_9a5fd3327a3drow0_col0\" class=\"data row0 col0\">\n",
       "                    27\n",
       "                \n",
       "                <td id=\"T_5ef8e5f6_59dc_11e6_8483_9a5fd3327a3drow0_col1\" class=\"data row0 col1\">\n",
       "                    7\n",
       "                \n",
       "                <td id=\"T_5ef8e5f6_59dc_11e6_8483_9a5fd3327a3drow0_col2\" class=\"data row0 col2\">\n",
       "                    0.259259\n",
       "                \n",
       "            </tr>\n",
       "            \n",
       "            <tr>\n",
       "                \n",
       "                <th id=\"T_5ef8e5f6_59dc_11e6_8483_9a5fd3327a3d\" class=\"row_heading level2 row1\">\n",
       "                    10.24\n",
       "                \n",
       "                <td id=\"T_5ef8e5f6_59dc_11e6_8483_9a5fd3327a3drow1_col0\" class=\"data row1 col0\">\n",
       "                    29\n",
       "                \n",
       "                <td id=\"T_5ef8e5f6_59dc_11e6_8483_9a5fd3327a3drow1_col1\" class=\"data row1 col1\">\n",
       "                    9\n",
       "                \n",
       "                <td id=\"T_5ef8e5f6_59dc_11e6_8483_9a5fd3327a3drow1_col2\" class=\"data row1 col2\">\n",
       "                    0.310345\n",
       "                \n",
       "            </tr>\n",
       "            \n",
       "            <tr>\n",
       "                \n",
       "                <th id=\"T_5ef8e5f6_59dc_11e6_8483_9a5fd3327a3d\" class=\"row_heading level2 row2\">\n",
       "                    10.27\n",
       "                \n",
       "                <td id=\"T_5ef8e5f6_59dc_11e6_8483_9a5fd3327a3drow2_col0\" class=\"data row2 col0\">\n",
       "                    55\n",
       "                \n",
       "                <td id=\"T_5ef8e5f6_59dc_11e6_8483_9a5fd3327a3drow2_col1\" class=\"data row2 col1\">\n",
       "                    18\n",
       "                \n",
       "                <td id=\"T_5ef8e5f6_59dc_11e6_8483_9a5fd3327a3drow2_col2\" class=\"data row2 col2\">\n",
       "                    0.327273\n",
       "                \n",
       "            </tr>\n",
       "            \n",
       "            <tr>\n",
       "                \n",
       "                <th id=\"T_5ef8e5f6_59dc_11e6_8483_9a5fd3327a3d\" class=\"row_heading level2 row3\">\n",
       "                    10.31\n",
       "                \n",
       "                <td id=\"T_5ef8e5f6_59dc_11e6_8483_9a5fd3327a3drow3_col0\" class=\"data row3 col0\">\n",
       "                    14\n",
       "                \n",
       "                <td id=\"T_5ef8e5f6_59dc_11e6_8483_9a5fd3327a3drow3_col1\" class=\"data row3 col1\">\n",
       "                    6\n",
       "                \n",
       "                <td id=\"T_5ef8e5f6_59dc_11e6_8483_9a5fd3327a3drow3_col2\" class=\"data row3 col2\">\n",
       "                    0.428571\n",
       "                \n",
       "            </tr>\n",
       "            \n",
       "        </tbody>\n",
       "        </table>\n",
       "        "
      ],
      "text/plain": [
       "<pandas.formats.style.Styler at 0x16dacb3a630>"
      ]
     },
     "execution_count": 49,
     "metadata": {},
     "output_type": "execute_result"
    }
   ],
   "source": [
    "import seaborn as sns\n",
    "cm = sns.light_palette(\"green\", as_cmap=True)\n",
    "\n",
    "# conditional formatting\n",
    "new_data.style.background_gradient(cmap=cm)"
   ]
  }
 ],
 "metadata": {
  "anaconda-cloud": {},
  "kernelspec": {
   "display_name": "Python [Root]",
   "language": "python",
   "name": "Python [Root]"
  },
  "language_info": {
   "codemirror_mode": {
    "name": "ipython",
    "version": 3
   },
   "file_extension": ".py",
   "mimetype": "text/x-python",
   "name": "python",
   "nbconvert_exporter": "python",
   "pygments_lexer": "ipython3",
   "version": "3.5.2"
  }
 },
 "nbformat": 4,
 "nbformat_minor": 0
}
